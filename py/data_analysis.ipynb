{
  "cells": [
    {
      "cell_type": "code",
      "execution_count": 1,
      "metadata": {
        "id": "2MRWN-U0S1n6"
      },
      "outputs": [],
      "source": [
        "# Import libraries\n",
        "import pandas as pd\n",
        "import datetime\n",
        "import pandas_geojson as pd_geo"
      ]
    },
    {
      "cell_type": "code",
      "execution_count": 2,
      "metadata": {},
      "outputs": [],
      "source": [
        "# Load data with ferry stop times and location\n",
        "df = pd.read_csv('data/google_transit/stop_times.txt')\n",
        "\n",
        "# Load data with stop long lat\n",
        "df_stops = pd.read_csv('data/google_transit/stops.txt')"
      ]
    },
    {
      "cell_type": "code",
      "execution_count": 3,
      "metadata": {},
      "outputs": [],
      "source": [
        "# Create data frame with all possible times slots and respective time id\n",
        "start_time = '4:45:00' # start time\n",
        "end_time = '23:00:00' # end time\n",
        "time_str_lst = pd.date_range(start_time, end_time, freq = '5min') # generate list with 5 min interval\n",
        "time_lst = time_str_lst.strftime('%H:%M:%S') # modifty list to date.time format\n",
        "\n",
        "df_times_reference = pd.DataFrame(data = time_lst, columns = ['time']) # create dataframe\n",
        "df_times_reference['time_id'] = range(0, len(df_times_reference)) # add time_id reference"
      ]
    },
    {
      "cell_type": "code",
      "execution_count": 4,
      "metadata": {
        "id": "Sd-0JR4FS-q3"
      },
      "outputs": [],
      "source": [
        "# Merge ferry stop times and stop long lat\n",
        "df = pd.merge(df, df_stops, on = 'stop_id').sort_values('trip_id')\n",
        "\n",
        "# Change name of time variable\n",
        "df = df.rename(columns = {'arrival_time' : 'time'})\n",
        "\n",
        "# Change \"time\" parameter from string to timestamp format\n",
        "try:\n",
        "    df['time'] = pd.to_datetime(df['time'])\n",
        "except Exception:\n",
        "    pass\n",
        "\n",
        "# Round data to closest 5 min increment\n",
        "try:\n",
        "    df['time'] = pd.Series(df['time']).dt.round('5T')\n",
        "except Exception:\n",
        "    pass\n",
        "\n",
        "# Remove date\n",
        "for i in range(0,len(df)):\n",
        "    df.loc[i,'time'] = df.loc[i,'time'].time()\n",
        "\n",
        "# Change format to string\n",
        "for i in range(0,len(df)):\n",
        "    df.loc[i,'time'] = df.loc[i,'time'].strftime('%H:%M:%S')\n",
        "\n",
        "# Add time references\n",
        "df = pd.merge(df, df_times_reference, on = 'time', how = 'left')\n",
        "\n",
        "## TODO: get routes to work"
      ]
    },
    {
      "cell_type": "code",
      "execution_count": 5,
      "metadata": {},
      "outputs": [],
      "source": [
        "def subset_data(data,trip_id):\n",
        "    ''''The objective of this function is to get the local id of the dataset. \n",
        "    You input the data set and the requested trip_id. \n",
        "    The function then outputs a dataframe with only the relevent data with the stop sequence sorted'''\n",
        "\n",
        "    # Get data for a single trip\n",
        "    data_1 = data.loc[df['trip_id'] == trip_id].sort_values('stop_sequence')\n",
        "\n",
        "    # Remove all non-essential data\n",
        "    return(data_1[['trip_id','time','stop_id','stop_sequence','stop_lat','stop_lon', 'stop_name']])\n",
        "\n",
        "def inter_time(data, trip_id, time_ref):\n",
        "    '''The objective of this function is to determine the longitude and latitude that are not given.\n",
        "    You input the data set and trip_id.\n",
        "    The function outputs a dataframe with the interpolated data'''\n",
        "\n",
        "    # Get data with a single trip_id\n",
        "    data = subset_data(data,trip_id)\n",
        "\n",
        "    # Merge the datasets with the time id data and keep all time intervals\n",
        "    data = pd.merge(data,time_ref,on = 'time', how = 'right')\n",
        "\n",
        "    # Remove data that are on either side of the entire \n",
        "    data = data.loc[data['stop_id'].first_valid_index():data['stop_id'].last_valid_index(),:]\n",
        "\n",
        "    # Make all the trip_ids the same\n",
        "    data['trip_id'] = trip_id\n",
        "\n",
        "    # Interpolate longitude data\n",
        "    data['stop_lon'] = data['stop_lon'].interpolate()\n",
        "\n",
        "    # Interploate latitude data\n",
        "    data['stop_lat'] = data['stop_lat'].interpolate()\n",
        "\n",
        "    return(data)"
      ]
    },
    {
      "cell_type": "code",
      "execution_count": 6,
      "metadata": {},
      "outputs": [],
      "source": [
        "# Set up inital variables for loop\n",
        "df_export = pd.DataFrame()\n",
        "df_old = pd.DataFrame()\n",
        "\n",
        "# Loop through all unique trip_ids and append them together\n",
        "for i in df['trip_id'].unique():\n",
        "    df_export = pd.concat([df_old,inter_time(df,i,df_times_reference)], ignore_index = True)\n",
        "    df_old = df_export"
      ]
    },
    {
      "cell_type": "code",
      "execution_count": 7,
      "metadata": {},
      "outputs": [],
      "source": [
        "geo_json = pd_geo.to_geojson(df = df_export, lat = 'stop_lat', lon = 'stop_lon',\n",
        "                    properties = ['trip_id','time','time_id'])\n",
        "\n",
        "pd_geo.write_geojson(geo_json, filename = 'stop-times.geojson', indent = 4)"
      ]
    }
  ],
  "metadata": {
    "colab": {
      "collapsed_sections": [],
      "provenance": []
    },
    "kernelspec": {
      "display_name": "Python 3.9.2 64-bit",
      "language": "python",
      "name": "python3"
    },
    "language_info": {
      "codemirror_mode": {
        "name": "ipython",
        "version": 3
      },
      "file_extension": ".py",
      "mimetype": "text/x-python",
      "name": "python",
      "nbconvert_exporter": "python",
      "pygments_lexer": "ipython3",
      "version": "3.9.2"
    },
    "vscode": {
      "interpreter": {
        "hash": "916dbcbb3f70747c44a77c7bcd40155683ae19c65e1c03b4aa3499c5328201f1"
      }
    }
  },
  "nbformat": 4,
  "nbformat_minor": 0
}
